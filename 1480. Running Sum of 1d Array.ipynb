{
 "cells": [
  {
   "cell_type": "code",
   "execution_count": null,
   "metadata": {},
   "outputs": [],
   "source": [
    "class Solution(object):\n",
    "    def runningSum(self, nums):\n",
    "        \"\"\"\n",
    "        :type nums: List[int]\n",
    "        :rtype: List[int]\n",
    "        \"\"\"\n",
    "        run_sum=[]\n",
    "        for num in range(len(nums)):\n",
    "\n",
    "            if not 1<=len(nums)<=1000:\n",
    "                print('invalid')\n",
    "            elif not -10**6<=nums[num]<=10**6:\n",
    "                print('invalid')\n",
    "            else:\n",
    "                run_sum.append(sum(nums[0:num+1]))\n",
    "        return run_sum"
   ]
  }
 ],
 "metadata": {
  "language_info": {
   "name": "python"
  }
 },
 "nbformat": 4,
 "nbformat_minor": 2
}
